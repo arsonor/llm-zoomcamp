{
 "cells": [
  {
   "cell_type": "markdown",
   "metadata": {},
   "source": [
    "# Homework 5: LLM Orchestration and Ingestion\n",
    "\n",
    "Our FAQ documents change with time: students add more records and edit existing ones. We need to keep our index in sync.\n",
    "\n",
    "There are two ways of doing it:\n",
    "\n",
    "+ Incremental: you only update records that got changed, created or deleted\n",
    "+ Full update: you recreate the entire index from scratch\n",
    "\n",
    "In this homework, we'll look at full update. We will run our indexing pipeline daily and re-create the index from scracth each time we run.\n",
    "\n",
    "For that, we created two FAQ documents for LLM Zoomcamp\n",
    "\n",
    "+ version 1\n",
    "+ version 2\n",
    "\n",
    "First, we will run our ingestion pipeline with version 1 and then with version 2."
   ]
  },
  {
   "cell_type": "markdown",
   "metadata": {},
   "source": [
    "### Q1. Running Mage\n",
    "Clone the same repo we used in the module and run mage:\n",
    "\n",
    "`git clone https://github.com/mage-ai/rag-project`\n",
    "\n",
    "Add the following libraries to the requirements document:\n",
    "\n",
    "+ python-docx\n",
    "+ elasticsearch\n",
    "\n",
    "Make sure you use the latest version of mage:\n",
    "\n",
    "`docker pull mageai/mageai:llm`\n",
    "\n",
    "Start it:\n",
    "\n",
    "`./scripts/start.sh`\n",
    "\n",
    "Now mage is running on http://localhost:6789/\n",
    "\n",
    "What's the version of mage? **v0.9.72**\n"
   ]
  },
  {
   "cell_type": "markdown",
   "metadata": {},
   "source": [
    "### Creating a RAG pipeline\n",
    "Create a RAG pipeline"
   ]
  },
  {
   "cell_type": "markdown",
   "metadata": {},
   "source": [
    "### Q2. Reading the documents\n",
    "Now we can ingest the documents. Create a custom code ingestion block\n",
    "\n",
    "Let's read the documents. We will use the same code we used for parsing FAQ: parse-faq-llm.ipynb\n",
    "\n",
    "Use the following document_id: 1qZjwHkvP0lXHiE4zdbWyUXSVfmVGzougDD6N37bat3E, which is the document ID of LLM FAQ version 1\n",
    "\n",
    "Copy the code to the editor How many FAQ documents we processed?\n",
    "\n",
    "1\n",
    "2\n",
    "3\n",
    "4"
   ]
  }
 ],
 "metadata": {
  "language_info": {
   "name": "python"
  }
 },
 "nbformat": 4,
 "nbformat_minor": 2
}
